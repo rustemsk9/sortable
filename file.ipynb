{
 "cells": [
  {
   "cell_type": "markdown",
   "id": "280a9f90",
   "metadata": {},
   "source": [
    "https://www.kaggle.com/"
   ]
  }
 ],
 "metadata": {
  "language_info": {
   "name": "python"
  }
 },
 "nbformat": 4,
 "nbformat_minor": 5
}
